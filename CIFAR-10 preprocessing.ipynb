{
 "cells": [
  {
   "cell_type": "markdown",
   "id": "editorial-drama",
   "metadata": {},
   "source": [
    "## CIFAR-10 - Object Recognition in Images\n",
    "\n",
    "is a estimated computer-vision dataset used for object recognition. It is a subset of the **80 million tiny images dataset** and consists of 60,000 32x32 color images containing one of 10 object classes, with 6000 images per class. It was collected by Alex Krizhevsky, Vinod Nair and Geoffrey Hinton.\n"
   ]
  },
  {
   "cell_type": "markdown",
   "id": "supposed-optimum",
   "metadata": {},
   "source": [
    "### Table of Contents\n",
    "<ul>\n",
    "    <li>Problem Statement</li>\n",
    "    <li>Import Libaries</li>\n",
    "    <li>Exploring the Data</li>\n",
    "    <li>Training and Validation Datasets</li>\n",
    "   <li>Convolutional Neural Network (CNN)</li>\n",
    "    <li>Training the Model</li>\n",
    "    <li>Testing with individual images</li>\n",
    "</ul>"
   ]
  },
  {
   "cell_type": "code",
   "execution_count": 1,
   "id": "average-powder",
   "metadata": {},
   "outputs": [],
   "source": [
    "# import libraries\n",
    "import numpy as np\n",
    "import pandas as pd\n",
    "import matplotlib.pyplot as plt\n",
    "import tensorflow as tf\n",
    "import keras\n",
    "from keras import datasets,layers,models\n",
    "from tensorflow.keras.layers import Conv2D, MaxPooling2D, Dense, Flatten, Activation\n",
    "#keras-Tuner\n",
    "import kerastuner \n",
    "from kerastuner.tuners import RandomSearch"
   ]
  },
  {
   "cell_type": "code",
   "execution_count": 2,
   "id": "macro-baltimore",
   "metadata": {},
   "outputs": [],
   "source": [
    "from tensorflow.compat.v1 import ConfigProto\n",
    "from tensorflow.compat.v1 import InteractiveSession\n",
    "\n",
    "config = ConfigProto()\n",
    "config.gpu_options.per_process_gpu_memory_fraction = 0.5\n",
    "config.gpu_options.allow_growth = True\n",
    "session = InteractiveSession(config=config)"
   ]
  },
  {
   "cell_type": "code",
   "execution_count": 3,
   "id": "beautiful-offense",
   "metadata": {},
   "outputs": [],
   "source": [
    "#load and split data\n",
    "(X_train, y_train), (X_test, y_test) = datasets.cifar10.load_data()"
   ]
  },
  {
   "cell_type": "code",
   "execution_count": 4,
   "id": "hybrid-welsh",
   "metadata": {},
   "outputs": [
    {
     "name": "stdout",
     "output_type": "stream",
     "text": [
      "(50000, 32, 32, 3)\n",
      "(10000, 32, 32, 3)\n",
      "(50000, 1)\n",
      "(10000, 1)\n"
     ]
    }
   ],
   "source": [
    "print(X_train.shape)\n",
    "print(X_test.shape)\n",
    "print(y_train.shape)\n",
    "print(y_test.shape)"
   ]
  },
  {
   "cell_type": "code",
   "execution_count": 5,
   "id": "preliminary-pressure",
   "metadata": {},
   "outputs": [
    {
     "data": {
      "text/plain": [
       "array([[6],\n",
       "       [9],\n",
       "       [9],\n",
       "       [4],\n",
       "       [1]], dtype=uint8)"
      ]
     },
     "execution_count": 5,
     "metadata": {},
     "output_type": "execute_result"
    }
   ],
   "source": [
    "y_train[:5]\n"
   ]
  },
  {
   "cell_type": "code",
   "execution_count": 6,
   "id": "alpha-replication",
   "metadata": {},
   "outputs": [
    {
     "data": {
      "text/plain": [
       "array([6, 9, 9, 4, 1], dtype=uint8)"
      ]
     },
     "execution_count": 6,
     "metadata": {},
     "output_type": "execute_result"
    }
   ],
   "source": [
    "y_train = y_train.reshape(-1,)\n",
    "y_train[:5]"
   ]
  },
  {
   "cell_type": "code",
   "execution_count": 7,
   "id": "unknown-hollywood",
   "metadata": {},
   "outputs": [
    {
     "data": {
      "text/plain": [
       "array([3, 8, 8, 0, 6], dtype=uint8)"
      ]
     },
     "execution_count": 7,
     "metadata": {},
     "output_type": "execute_result"
    }
   ],
   "source": [
    "y_test = y_test.reshape(-1,)\n",
    "y_test[:5]"
   ]
  },
  {
   "cell_type": "code",
   "execution_count": 8,
   "id": "anticipated-cleveland",
   "metadata": {},
   "outputs": [
    {
     "data": {
      "text/plain": [
       "array([[[ 59,  62,  63],\n",
       "        [ 43,  46,  45],\n",
       "        [ 50,  48,  43],\n",
       "        ...,\n",
       "        [158, 132, 108],\n",
       "        [152, 125, 102],\n",
       "        [148, 124, 103]],\n",
       "\n",
       "       [[ 16,  20,  20],\n",
       "        [  0,   0,   0],\n",
       "        [ 18,   8,   0],\n",
       "        ...,\n",
       "        [123,  88,  55],\n",
       "        [119,  83,  50],\n",
       "        [122,  87,  57]],\n",
       "\n",
       "       [[ 25,  24,  21],\n",
       "        [ 16,   7,   0],\n",
       "        [ 49,  27,   8],\n",
       "        ...,\n",
       "        [118,  84,  50],\n",
       "        [120,  84,  50],\n",
       "        [109,  73,  42]],\n",
       "\n",
       "       ...,\n",
       "\n",
       "       [[208, 170,  96],\n",
       "        [201, 153,  34],\n",
       "        [198, 161,  26],\n",
       "        ...,\n",
       "        [160, 133,  70],\n",
       "        [ 56,  31,   7],\n",
       "        [ 53,  34,  20]],\n",
       "\n",
       "       [[180, 139,  96],\n",
       "        [173, 123,  42],\n",
       "        [186, 144,  30],\n",
       "        ...,\n",
       "        [184, 148,  94],\n",
       "        [ 97,  62,  34],\n",
       "        [ 83,  53,  34]],\n",
       "\n",
       "       [[177, 144, 116],\n",
       "        [168, 129,  94],\n",
       "        [179, 142,  87],\n",
       "        ...,\n",
       "        [216, 184, 140],\n",
       "        [151, 118,  84],\n",
       "        [123,  92,  72]]], dtype=uint8)"
      ]
     },
     "execution_count": 8,
     "metadata": {},
     "output_type": "execute_result"
    }
   ],
   "source": [
    "X_train[0]"
   ]
  },
  {
   "cell_type": "code",
   "execution_count": 9,
   "id": "regulation-wales",
   "metadata": {},
   "outputs": [],
   "source": [
    "#columns name\n",
    "classes = [\"airplane\",\"automobile\",\"bird\",\"cat\",\"deer\",\"dog\",\"frog\",\"horse\",\"ship\",\"truck\"]"
   ]
  },
  {
   "cell_type": "markdown",
   "id": "handed-wallet",
   "metadata": {},
   "source": [
    "# Visualizing\n",
    "\n",
    "\n",
    "CIFAR-10 is an established computer-vision dataset used for object recognition. It is a subset of the 80 million tiny images dataset and consists of 60,000 32x32 color images containing one of 10 object classes, with 6000 images per class. We can look at some of the images below."
   ]
  },
  {
   "cell_type": "code",
   "execution_count": 10,
   "id": "sensitive-profile",
   "metadata": {},
   "outputs": [
    {
     "data": {
      "text/plain": [
       "<matplotlib.image.AxesImage at 0x2013d272908>"
      ]
     },
     "execution_count": 10,
     "metadata": {},
     "output_type": "execute_result"
    },
    {
     "data": {
      "image/png": "[encoded data removed]",
      "text/plain": [
       "<Figure size 720x144 with 1 Axes>"
      ]
     },
     "metadata": {
      "needs_background": "light"
     },
     "output_type": "display_data"
    }
   ],
   "source": [
    "plt.figure(figsize= (10,2))\n",
    "plt.imshow(X_train[0]) # frog"
   ]
  },
  {
   "cell_type": "code",
   "execution_count": 11,
   "id": "handed-slave",
   "metadata": {},
   "outputs": [
    {
     "data": {
      "image/png": "[encoded data removed]",
      "text/plain": [
       "<Figure size 1080x144 with 1 Axes>"
      ]
     },
     "metadata": {
      "needs_background": "light"
     },
     "output_type": "display_data"
    }
   ],
   "source": [
    "### we want to see the images with there labels.\n",
    "def plot_sample(X,y, index):\n",
    "    plt.figure(figsize= (15,2))\n",
    "    plt.imshow(X[index])\n",
    "    plt.xlabel(classes[y[index]])\n",
    "    \n",
    "plot_sample(X_train, y_train, 0)"
   ]
  },
  {
   "cell_type": "code",
   "execution_count": 12,
   "id": "seasonal-submission",
   "metadata": {},
   "outputs": [
    {
     "data": {
      "image/png": "[encoded data removed]",
      "text/plain": [
       "<Figure size 1080x144 with 1 Axes>"
      ]
     },
     "metadata": {
      "needs_background": "light"
     },
     "output_type": "display_data"
    }
   ],
   "source": [
    "plot_sample(X_train, y_train, 3)"
   ]
  },
  {
   "cell_type": "markdown",
   "id": "christian-pathology",
   "metadata": {},
   "source": [
    "**Preprocessing:Scale Images**"
   ]
  },
  {
   "cell_type": "code",
   "execution_count": 13,
   "id": "higher-thanksgiving",
   "metadata": {},
   "outputs": [],
   "source": [
    "def normalize(x):\n",
    "    min_val = np.min(x)\n",
    "    max_val = np.max(x)\n",
    "    x = (x-min_val)/(max_val-min_val)\n",
    "    return x"
   ]
  },
  {
   "cell_type": "code",
   "execution_count": 14,
   "id": "typical-collection",
   "metadata": {},
   "outputs": [],
   "source": [
    "X_train = X_train.astype('float32') #always convert images into float\n",
    "X_test = X_test.astype('float32')\n",
    "\n",
    "X_train = normalize(X_train)\n",
    "X_test = normalize(X_test)\n",
    "\n",
    "X_train = X_train.reshape(-1,32,32,3) #reshaping for convnet"
   ]
  },
  {
   "cell_type": "code",
   "execution_count": 15,
   "id": "minimal-turning",
   "metadata": {},
   "outputs": [],
   "source": [
    "from keras.utils.np_utils import to_categorical\n",
    "y_train = to_categorical(y_train)\n",
    "y_test = to_categorical(y_test)"
   ]
  },
  {
   "cell_type": "code",
   "execution_count": 16,
   "id": "effective-lotus",
   "metadata": {},
   "outputs": [
    {
     "data": {
      "text/plain": [
       "array([[0., 0., 0., 0., 0., 0., 1., 0., 0., 0.],\n",
       "       [0., 0., 0., 0., 0., 0., 0., 0., 0., 1.],\n",
       "       [0., 0., 0., 0., 0., 0., 0., 0., 0., 1.],\n",
       "       [0., 0., 0., 0., 1., 0., 0., 0., 0., 0.],\n",
       "       [0., 1., 0., 0., 0., 0., 0., 0., 0., 0.]], dtype=float32)"
      ]
     },
     "execution_count": 16,
     "metadata": {},
     "output_type": "execute_result"
    }
   ],
   "source": [
    "y_train[:5]"
   ]
  },
  {
   "cell_type": "code",
   "execution_count": 17,
   "id": "individual-archives",
   "metadata": {},
   "outputs": [
    {
     "data": {
      "text/plain": [
       "array([[0., 0., 0., 1., 0., 0., 0., 0., 0., 0.],\n",
       "       [0., 0., 0., 0., 0., 0., 0., 0., 1., 0.],\n",
       "       [0., 0., 0., 0., 0., 0., 0., 0., 1., 0.],\n",
       "       [1., 0., 0., 0., 0., 0., 0., 0., 0., 0.],\n",
       "       [0., 0., 0., 0., 0., 0., 1., 0., 0., 0.]], dtype=float32)"
      ]
     },
     "execution_count": 17,
     "metadata": {},
     "output_type": "execute_result"
    }
   ],
   "source": [
    "y_test[:5]"
   ]
  },
  {
   "cell_type": "code",
   "execution_count": 18,
   "id": "thermal-kingdom",
   "metadata": {},
   "outputs": [
    {
     "data": {
      "text/plain": [
       "(32, 32, 3)"
      ]
     },
     "execution_count": 18,
     "metadata": {},
     "output_type": "execute_result"
    }
   ],
   "source": [
    "X_train[0].shape"
   ]
  },
  {
   "cell_type": "code",
   "execution_count": 19,
   "id": "violent-gospel",
   "metadata": {},
   "outputs": [],
   "source": [
    "#save our prepocessed data\n",
    "import pickle\n",
    "\n",
    "pickle_out = open(\"X_train.pickle\",\"wb\")\n",
    "pickle.dump(X_train,pickle_out)\n",
    "pickle_out.close()\n",
    "\n",
    "pickle_out = open(\"X_test.pickle\",\"wb\")\n",
    "pickle.dump(X_test,pickle_out)\n",
    "pickle_out.close()\n",
    "\n",
    "pickle_out = open(\"y_train.pickle\",\"wb\")\n",
    "pickle.dump(y_train,pickle_out)\n",
    "pickle_out.close()\n",
    "\n",
    "pickle_out = open(\"y_test.pickle\",\"wb\")\n",
    "pickle.dump(y_test,pickle_out)\n",
    "pickle_out.close()\n",
    "\n"
   ]
  },
  {
   "cell_type": "markdown",
   "id": "handmade-revision",
   "metadata": {},
   "source": [
    "Looks like our model is overfitting in a simple base model, I think we have to increase our data."
   ]
  },
  {
   "cell_type": "code",
   "execution_count": 23,
   "id": "sporting-being",
   "metadata": {},
   "outputs": [],
   "source": [
    "from keras.preprocessing.image import ImageDataGenerator\n",
    "\n",
    "# augumenting\n",
    "datagen = ImageDataGenerator(\n",
    "    rotation_range = 40,\n",
    "    width_shift_range = 0.2,\n",
    "    height_shift_range = 0.2,\n",
    "    shear_range = 0.2,\n",
    "    zoom_range = 0.2,\n",
    "    horizontal_flip = True,\n",
    "    vertical_flip = True,\n",
    "    fill_mode = 'nearest')"
   ]
  },
  {
   "cell_type": "code",
   "execution_count": 24,
   "id": "convenient-roommate",
   "metadata": {},
   "outputs": [],
   "source": [
    "datagen.fit(X_train)"
   ]
  },
  {
   "cell_type": "code",
   "execution_count": 25,
   "id": "dimensional-baker",
   "metadata": {},
   "outputs": [],
   "source": [
    "BATCH_SIZE = 128\n",
    "NB_EPOCH = 50"
   ]
  },
  {
   "cell_type": "code",
   "execution_count": 26,
   "id": "collaborative-slovakia",
   "metadata": {},
   "outputs": [
    {
     "name": "stderr",
     "output_type": "stream",
     "text": [
      "C:\\Users\\vaibh\\miniconda3\\envs\\Ai\\lib\\site-packages\\tensorflow\\python\\keras\\engine\\training.py:1844: UserWarning: `Model.fit_generator` is deprecated and will be removed in a future version. Please use `Model.fit`, which supports generators.\n",
      "  warnings.warn('`Model.fit_generator` is deprecated and '\n"
     ]
    },
    {
     "name": "stdout",
     "output_type": "stream",
     "text": [
      "Epoch 1/50\n",
      "390/390 [==============================] - 44s 93ms/step - loss: 2.0058 - accuracy: 0.3032 - val_loss: 1.6202 - val_accuracy: 0.4541\n",
      "Epoch 2/50\n",
      "390/390 [==============================] - 25s 65ms/step - loss: 1.7204 - accuracy: 0.3757 - val_loss: 1.4734 - val_accuracy: 0.4843\n",
      "Epoch 3/50\n",
      "390/390 [==============================] - 26s 68ms/step - loss: 1.6422 - accuracy: 0.4024 - val_loss: 1.4468 - val_accuracy: 0.5006\n",
      "Epoch 4/50\n",
      "390/390 [==============================] - 24s 61ms/step - loss: 1.5966 - accuracy: 0.4268 - val_loss: 1.3170 - val_accuracy: 0.5433ccuracy: 0.42 - ETA: 2s - loss: 1.5998 - accuracy - - ETA: 0s - loss: 1.5975 - accu\n",
      "Epoch 5/50\n",
      "390/390 [==============================] - 21s 53ms/step - loss: 1.5627 - accuracy: 0.4396 - val_loss: 1.2782 - val_accuracy: 0.5421\n",
      "Epoch 6/50\n",
      "390/390 [==============================] - 23s 58ms/step - loss: 1.5343 - accuracy: 0.4496 - val_loss: 1.2578 - val_accuracy: 0.5572\n",
      "Epoch 7/50\n",
      "390/390 [==============================] - 22s 55ms/step - loss: 1.5028 - accuracy: 0.4629 - val_loss: 1.2923 - val_accuracy: 0.5510\n",
      "Epoch 8/50\n",
      "390/390 [==============================] - 22s 57ms/step - loss: 1.4816 - accuracy: 0.4690 - val_loss: 1.2514 - val_accuracy: 0.5501\n",
      "Epoch 9/50\n",
      "390/390 [==============================] - 22s 56ms/step - loss: 1.4656 - accuracy: 0.4750 - val_loss: 1.3143 - val_accuracy: 0.5561\n",
      "Epoch 10/50\n",
      "390/390 [==============================] - 22s 57ms/step - loss: 1.4493 - accuracy: 0.4820 - val_loss: 1.2359 - val_accuracy: 0.5753\n",
      "Epoch 11/50\n",
      "390/390 [==============================] - 24s 62ms/step - loss: 1.4396 - accuracy: 0.4881 - val_loss: 1.2602 - val_accuracy: 0.5644\n",
      "Epoch 12/50\n",
      "390/390 [==============================] - 22s 57ms/step - loss: 1.4239 - accuracy: 0.4904 - val_loss: 1.2153 - val_accuracy: 0.5779\n",
      "Epoch 13/50\n",
      "390/390 [==============================] - 22s 57ms/step - loss: 1.4143 - accuracy: 0.4914 - val_loss: 1.2555 - val_accuracy: 0.5699\n",
      "Epoch 14/50\n",
      "390/390 [==============================] - 24s 61ms/step - loss: 1.4045 - accuracy: 0.4996 - val_loss: 1.2498 - val_accuracy: 0.5714\n",
      "Epoch 15/50\n",
      "390/390 [==============================] - 24s 62ms/step - loss: 1.3942 - accuracy: 0.5008 - val_loss: 1.3541 - val_accuracy: 0.5397\n",
      "Epoch 16/50\n",
      "390/390 [==============================] - 24s 62ms/step - loss: 1.3765 - accuracy: 0.5078 - val_loss: 1.2321 - val_accuracy: 0.5743\n",
      "Epoch 17/50\n",
      "390/390 [==============================] - 23s 58ms/step - loss: 1.3752 - accuracy: 0.5082 - val_loss: 1.1427 - val_accuracy: 0.6028\n",
      "Epoch 18/50\n",
      "390/390 [==============================] - 23s 59ms/step - loss: 1.3713 - accuracy: 0.5101 - val_loss: 1.2459 - val_accuracy: 0.5721\n",
      "Epoch 19/50\n",
      "390/390 [==============================] - 24s 62ms/step - loss: 1.3628 - accuracy: 0.5125 - val_loss: 1.2738 - val_accuracy: 0.5670\n",
      "Epoch 20/50\n",
      "390/390 [==============================] - 23s 59ms/step - loss: 1.3552 - accuracy: 0.5142 - val_loss: 1.3062 - val_accuracy: 0.5616\n",
      "Epoch 21/50\n",
      "390/390 [==============================] - 24s 60ms/step - loss: 1.3500 - accuracy: 0.5169 - val_loss: 1.2855 - val_accuracy: 0.5527lo - ETA: 5s - loss: 1.3438 - accuracy: 0. - ETA:  - ETA: 4s - loss: 1.3463  - ETA: 4s - loss: 1.3479 - accuracy:  - ETA: 3s - loss: 1 - ETA: 0s - loss: 1\n",
      "Epoch 22/50\n",
      "390/390 [==============================] - 26s 67ms/step - loss: 1.3463 - accuracy: 0.5172 - val_loss: 1.1699 - val_accuracy: 0.5938s: 1.3428 - accuracy: - ETA: 19s - loss: 1.3408 - accura - ETA: 8s - loss: - ETA: 7s - los - ETA: 0s - loss: 1.3459 - accura\n",
      "Epoch 23/50\n",
      "390/390 [==============================] - 51s 132ms/step - loss: 1.3353 - accuracy: 0.5221 - val_loss: 1.2548 - val_accuracy: 0.5789 19s - loss: - ETA: 18s - loss: 1.3396 - - ETA: 14s - loss: 1.3434 - accuracy: 0.51 - ETA: 14s - loss: 1.3431 - accuracy: 0.5 - ETA: 14s - loss: 1.3429 - accuracy: 0.5 - ETA: 13s - loss: 1.3435 - accuracy: - ETA: 13s - loss: 1.3443 - accuracy: 0.518 - ETA: 13s - loss: 1.3436 - accuracy: 0 - ETA: 13s - loss: 1.3427 - accuracy: 0.518 - ETA: 13s - loss: 1.3420 - accuracy: 0. - ETA: 12s - loss: 1.3404 - accuracy: 0. -  - ETA: 8s - l - ETA: 7s - ETA: 6s - loss: 1.3321  - ETA: 5s - loss: 1.3324  - ETA: 5s - loss: 1.3322 - accura - ETA: 5s - loss: 1.3332 - accura - ETA - ETA: 3s - loss: 1.3323 - accuracy: 0. - ETA: 3s - loss: 1.3327 - accuracy:  - ETA: 3s - loss: 1.3330 - accuracy: 0. - ETA: 3s - loss: 1.3329 - accu - ETA: 1s - loss: 1.3341 - accu - ETA: 1s - loss: 1.335 - ETA: 0s - loss: 1.3366 - \n",
      "Epoch 24/50\n",
      "390/390 [==============================] - 44s 112ms/step - loss: 1.3280 - accuracy: 0.5257 - val_loss: 1.2131 - val_accuracy: 0.5676- - ETA: 3s - - ETA: 2s - ETA: 0s - loss: 1.3296 \n",
      "Epoch 25/50\n",
      "390/390 [==============================] - 23s 58ms/step - loss: 1.3294 - accuracy: 0.5266 - val_loss: 1.1429 - val_accuracy: 0.6058\n",
      "Epoch 26/50\n",
      "390/390 [==============================] - 23s 58ms/step - loss: 1.3220 - accuracy: 0.5280 - val_loss: 1.4767 - val_accuracy: 0.5356\n",
      "Epoch 27/50\n",
      "390/390 [==============================] - 23s 59ms/step - loss: 1.3249 - accuracy: 0.5261 - val_loss: 1.2150 - val_accuracy: 0.5811\n",
      "Epoch 28/50\n",
      "390/390 [==============================] - 23s 58ms/step - loss: 1.3176 - accuracy: 0.5295 - val_loss: 1.1889 - val_accuracy: 0.5765\n",
      "Epoch 29/50\n",
      "390/390 [==============================] - 23s 60ms/step - loss: 1.3123 - accuracy: 0.5308 - val_loss: 1.1677 - val_accuracy: 0.5989accuracy: 0.52 - ETA: 5s - loss: 1.317\n",
      "Epoch 30/50\n",
      "390/390 [==============================] - 23s 59ms/step - loss: 1.3035 - accuracy: 0.5352 - val_loss: 1.2053 - val_accuracy: 0.5773\n",
      "Epoch 31/50\n",
      "390/390 [==============================] - 26s 66ms/step - loss: 1.3079 - accuracy: 0.5330 - val_loss: 1.1266 - val_accuracy: 0.6098oss: 1.3427 - accu - ETA: 20s - loss: 1.3407 - acc - ETA: 7s - loss: 1.3086 - accura - ETA: 1s - loss: 1.3073 - accuracy:  - ETA: 1s\n",
      "Epoch 32/50\n",
      "390/390 [==============================] - 24s 60ms/step - loss: 1.3028 - accuracy: 0.5355 - val_loss: 1.2068 - val_accuracy: 0.5821: 1.294 - ETA: 16s - los - ETA: 0s - loss: 1.3035 - ac\n",
      "Epoch 33/50\n",
      "390/390 [==============================] - 23s 60ms/step - loss: 1.2932 - accuracy: 0.5394 - val_loss: 1.2275 - val_accuracy: 0.5862- accur - ETA: 13s - loss: 1.2839 - accuracy - ETA: 12s - - E\n",
      "Epoch 34/50\n",
      "390/390 [==============================] - 26s 66ms/step - loss: 1.2898 - accuracy: 0.5407 - val_loss: 1.2127 - val_accuracy: 0.5888  - ETA: 16s - loss: 1.2843 - ETA: 3s - loss: 1.2866 - accuracy: 0. - ETA: 3s - ETA: 2s - loss: 1.2869 - ac - ETA: 1s - loss: 1.2874 - ac\n",
      "Epoch 35/50\n",
      "390/390 [==============================] - 24s 60ms/step - loss: 1.2899 - accuracy: 0.5395 - val_loss: 1.2279 - val_accuracy: 0.5764 1.2796 - - ETA: 19s - loss: 1.2687 - accuracy - ETA: 19s - loss: 1.271 - ETA: 2s - loss: 1.2898  - ETA: 0s - loss: 1.2898 - accuracy: 0.53 - ETA: 0s - loss: 1.2898 - accura - ETA: 0s - loss: 1.2899 - accuracy: 0.53\n",
      "Epoch 36/50\n",
      "390/390 [==============================] - 25s 65ms/step - loss: 1.2923 - accuracy: 0.5379 - val_loss: 1.1966 - val_accuracy: 0.5951A: 15s - loss: 1.2810  - ETA: 13s - loss: 1.2820 - accu - ETA: 12s - loss: 1.2825 -  - ETA: 11s - loss: 1.2835 - accuracy: - ETA: 4s - loss: 1.2907 - accuracy: 0.53 - ETA:  - ETA: 3s - - ETA: 0s - loss:\n",
      "Epoch 37/50\n",
      "390/390 [==============================] - 24s 61ms/step - loss: 1.2859 - accuracy: 0.5389 - val_loss: 1.2553 - val_accuracy: 0.5915\n",
      "Epoch 38/50\n",
      "390/390 [==============================] - 24s 62ms/step - loss: 1.2803 - accuracy: 0.5432 - val_loss: 1.2622 - val_accuracy: 0.5631 ETA: 16s - loss: - ETA: 14s - loss: 1.2794 -  - ETA: 13s - loss: 1.2806 - accur - ETA: 13s - loss: 1.2804 -  - ETA: 12s - loss: 1 - ETA: 10s - loss: 1.282 - ETA: 7s - loss: - ETA: 4s - loss: 1.280 - ETA: 4s - loss: 1.2802 - accuracy - ETA: 4s - loss: 1.2804 - accura - ETA: 2s - loss: 1.282 - ETA: 0s - loss: 1.2812 - accuracy: 0.54 - ETA: 0s - loss: 1.2812 - accuracy - ETA: 0s - loss: 1.2815 - accuracy: 0.54 - ETA: 0s - loss: 1.2812 - accura\n",
      "Epoch 39/50\n",
      "390/390 [==============================] - 24s 61ms/step - loss: 1.2820 - accuracy: 0.5416 - val_loss: 1.3268 - val_accuracy: 0.5431\n",
      "Epoch 40/50\n",
      "390/390 [==============================] - 24s 61ms/step - loss: 1.2831 - accuracy: 0.5414 - val_loss: 1.1840 - val_accuracy: 0.5980curacy:  - ETA: 2s - loss: 1.2826 - ac\n",
      "Epoch 41/50\n",
      "390/390 [==============================] - 24s 61ms/step - loss: 1.2769 - accuracy: 0.5440 - val_loss: 1.2150 - val_accuracy: 0.5852\n",
      "Epoch 42/50\n",
      "390/390 [==============================] - 27s 68ms/step - loss: 1.2758 - accuracy: 0.5466 - val_loss: 1.2165 - val_accuracy: 0.5777\n",
      "Epoch 43/50\n",
      "390/390 [==============================] - 24s 61ms/step - loss: 1.2729 - accuracy: 0.5475 - val_loss: 1.1845 - val_accuracy: 0.5811\n",
      "Epoch 44/50\n",
      "390/390 [==============================] - 24s 62ms/step - loss: 1.2702 - accuracy: 0.5469 - val_loss: 1.2188 - val_accuracy: 0.5817\n",
      "Epoch 45/50\n",
      "390/390 [==============================] - 24s 62ms/step - loss: 1.2630 - accuracy: 0.5505 - val_loss: 1.1246 - val_accuracy: 0.6142\n",
      "Epoch 46/50\n",
      "390/390 [==============================] - 24s 62ms/step - loss: 1.2674 - accuracy: 0.5458 - val_loss: 1.1827 - val_accuracy: 0.5731: 22s - loss: 1.2409 - accuracy: 0.547 - ETA: 22s - loss: 1.2429 -  - ETA:  - E - ETA: 16s - loss: 1 - ETA: 15s - los - ETA: 13s - loss: 1.2642 - accurac - ETA: 12s - loss: 1.2652 - ETA: 11s - loss: 1.2649 - accuracy - ETA: 11s - loss: 1.2642 - accuracy: 0. - ETA: 11s - loss: 1.2637 - accuracy: 0 - ETA: 10s - loss: 1.2624 - accuracy: 0. - ETA: 10s - loss: 1.2619 - accuracy: 0.547 - ETA: 10s - loss: 1.26 - ETA: 8s - loss: 1.2646 - accura - ETA: 7s - los - ETA: 5s - loss: 1.2658 - accuracy:  - ETA: 5s - loss: 1.2670 - accuracy: 0.54 - E - ETA: 4s - loss: 1.267 - ETA: 3s - loss: 1.2683 - accuracy: 0.54 - ETA: 3s - loss: 1.2680  - ETA: 3s - - ETA:  - ETA: 0s - - ETA: 0s - loss: 1.2674 - accuracy: 0.54\n",
      "Epoch 47/50\n",
      "390/390 [==============================] - 24s 61ms/step - loss: 1.2623 - accuracy: 0.5496 - val_loss: 1.1166 - val_accuracy: 0.6119s - - ETA: 20s - loss: 1.2443 - accuracy:  - ETA: 20s - loss: 1. - ETA: 19s - loss: 1.2462  - ETA: 18s - loss: 1.2498 - accuracy: 0.555 - ETA: 17s - loss: 1.2511 - accurac - ETA: 17s - loss: 1.2505 - accu - ETA: 16s - loss: 1.2547 - accuracy: 0.552 - ETA: 16s - loss: 1.2535 - accuracy: - ETA: 16s - ETA: 6s - loss: 1.2598 - accuracy:  - ETA: 6s - loss: 1.2 - ETA: 1s - loss: 1.2607 \n",
      "Epoch 48/50\n",
      "390/390 [==============================] - 24s 61ms/step - loss: 1.2559 - accuracy: 0.5523 - val_loss: 1.1105 - val_accuracy: 0.6148ccuracy - ETA: 19s\n",
      "Epoch 49/50\n",
      "390/390 [==============================] - 24s 60ms/step - loss: 1.2649 - accuracy: 0.5511 - val_loss: 1.1880 - val_accuracy: 0.5881\n",
      "Epoch 50/50\n",
      "390/390 [==============================] - 24s 61ms/step - loss: 1.2654 - accuracy: 0.5518 - val_loss: 1.2851 - val_accuracy: 0.5664s - loss: 1.2888 - accuracy: - ETA: 21s - loss: 1.2859 - accuracy: 0. - ETA: 21s - loss: 1.2 - ETA: 20s - loss: 1.2773 - accuracy: - ETA: 19s - loss: 1.2746  - ETA: 18s - loss: 1.27 - ET - ETA: 14s - loss: 1.2647 - acc - ETA: 13s - loss: 1.2661 - accuracy: 0 - ETA: 13s - loss: 1.2671 - a - ETA: 12s - loss: 1.263 - ETA: 11s - loss: 1.2666 - accura - ETA: 10s - loss: 1.2683 - accuracy: 0. - ETA: 10s - los - ETA:  - ETA: 3s - loss: 1.2677 - accuracy:  - ETA: 2s - ETA: 0s - loss: 1.266\n"
     ]
    }
   ],
   "source": [
    "# train\n",
    "history = model.fit_generator(datagen.flow(X_train, y_train,\n",
    "                                           batch_size=BATCH_SIZE),\n",
    "                              steps_per_epoch=50000//128,\n",
    "                              epochs=NB_EPOCH,\n",
    "                              validation_data = (X_test,y_test),\n",
    "                             validation_steps=10000//128)\n"
   ]
  },
  {
   "cell_type": "code",
   "execution_count": 27,
   "id": "jewish-petite",
   "metadata": {},
   "outputs": [
    {
     "data": {
      "image/png": "[encoded data removed]",
      "text/plain": [
       "<Figure size 432x288 with 1 Axes>"
      ]
     },
     "metadata": {
      "needs_background": "light"
     },
     "output_type": "display_data"
    },
    {
     "data": {
      "image/png": "[encoded data removed]",
      "text/plain": [
       "<Figure size 432x288 with 1 Axes>"
      ]
     },
     "metadata": {
      "needs_background": "light"
     },
     "output_type": "display_data"
    }
   ],
   "source": [
    "acc = history.history['accuracy']\n",
    "val_acc = history.history['val_accuracy']\n",
    "loss = history.history['loss']\n",
    "val_loss = history.history['val_loss']\n",
    "\n",
    "epochs = range(len(acc))\n",
    "\n",
    "plt.plot(epochs, acc, 'bo', label='Training accuracy')\n",
    "plt.plot(epochs, val_acc, 'b', label='Validation accuracy')\n",
    "plt.title('Training and validation accuracy')\n",
    "\n",
    "plt.figure()\n",
    "\n",
    "plt.plot(epochs, loss, 'bo', label='Training Loss')\n",
    "plt.plot(epochs, val_loss, 'b', label='Validation Loss')\n",
    "plt.title('Training and validation loss')\n",
    "plt.legend()\n",
    "\n",
    "plt.show()"
   ]
  },
  {
   "cell_type": "markdown",
   "id": "bulgarian-budapest",
   "metadata": {},
   "source": [
    "Our model is underfit."
   ]
  }
 ],
 "metadata": {
  "kernelspec": {
   "display_name": "Python 3",
   "language": "python",
   "name": "python3"
  },
  "language_info": {
   "codemirror_mode": {
    "name": "ipython",
    "version": 3
   },
   "file_extension": ".py",
   "mimetype": "text/x-python",
   "name": "python",
   "nbconvert_exporter": "python",
   "pygments_lexer": "ipython3",
   "version": "3.7.9"
  }
 },
 "nbformat": 4,
 "nbformat_minor": 5
}
