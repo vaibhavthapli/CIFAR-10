{
 "cells": [
  {
   "cell_type": "code",
   "execution_count": 1,
   "id": "similar-clerk",
   "metadata": {},
   "outputs": [],
   "source": [
    "import numpy as np\n",
    "import pandas as pd\n",
    "import matplotlib.pyplot as plt\n",
    "import tensorflow as tf\n",
    "import keras\n",
    "from keras import layers,models\n",
    "from tensorflow.keras.layers import Dense,Conv2D, MaxPooling2D, Dense, Flatten, Activation\n"
   ]
  },
  {
   "cell_type": "code",
   "execution_count": 2,
   "id": "visible-relation",
   "metadata": {},
   "outputs": [],
   "source": [
    "import pickle\n",
    "\n",
    "X_train = pickle.load(open(\"X_train.pickle\",\"rb\"))\n",
    "y_train = pickle.load(open(\"y_train.pickle\",\"rb\"))\n",
    "X_test = pickle.load(open(\"X_test.pickle\",\"rb\"))\n",
    "y_test = pickle.load(open(\"y_test.pickle\",\"rb\"))\n"
   ]
  },
  {
   "cell_type": "code",
   "execution_count": 3,
   "id": "adjusted-harris",
   "metadata": {},
   "outputs": [
    {
     "data": {
      "text/plain": [
       "(10000, 32, 32, 3)"
      ]
     },
     "execution_count": 3,
     "metadata": {},
     "output_type": "execute_result"
    }
   ],
   "source": [
    "X_test.shape"
   ]
  },
  {
   "cell_type": "code",
   "execution_count": 8,
   "id": "maritime-volleyball",
   "metadata": {},
   "outputs": [],
   "source": [
    "model = models.Sequential()\n",
    "\n",
    "model.add(Conv2D(16,(3,3),padding=\"same\",input_shape = X_train.shape[1:]))\n",
    "model.add(Conv2D(32,(3,3),padding=\"same\"))\n",
    "model.add(layers.ReLU()) \n",
    "model.add(MaxPooling2D(pool_size=(2,2),strides=(2,2)))\n",
    "  \n",
    "model.add(Conv2D(32,(3,3),padding=\"same\"))\n",
    "model.add(layers.ReLU())\n",
    "model.add(MaxPooling2D(pool_size=(2,2),strides=(2,2)))    \n",
    "    \n",
    "model.add(Conv2D(32,(3,3),padding=\"same\"))\n",
    "model.add(layers.ReLU())\n",
    "model.add(MaxPooling2D(pool_size=(2,2),strides=(2,2)))\n",
    "\n",
    "\n",
    "model.add(Flatten())  # this converts our 3D feature maps to 1D feature vectors\n",
    "model.add(Dense(1024))\n",
    "model.add(layers.ReLU())\n",
    "\n",
    "model.add(Dense(10))\n",
    "model.add(Activation('softmax'))"
   ]
  },
  {
   "cell_type": "code",
   "execution_count": 19,
   "id": "mineral-roots",
   "metadata": {},
   "outputs": [
    {
     "name": "stdout",
     "output_type": "stream",
     "text": [
      "Model: \"sequential_1\"\n",
      "_________________________________________________________________\n",
      "Layer (type)                 Output Shape              Param #   \n",
      "=================================================================\n",
      "conv2d (Conv2D)              (None, 32, 32, 16)        448       \n",
      "_________________________________________________________________\n",
      "conv2d_1 (Conv2D)            (None, 32, 32, 32)        4640      \n",
      "_________________________________________________________________\n",
      "re_lu (ReLU)                 (None, 32, 32, 32)        0         \n",
      "_________________________________________________________________\n",
      "max_pooling2d (MaxPooling2D) (None, 16, 16, 32)        0         \n",
      "_________________________________________________________________\n",
      "conv2d_2 (Conv2D)            (None, 16, 16, 32)        9248      \n",
      "_________________________________________________________________\n",
      "re_lu_1 (ReLU)               (None, 16, 16, 32)        0         \n",
      "_________________________________________________________________\n",
      "max_pooling2d_1 (MaxPooling2 (None, 8, 8, 32)          0         \n",
      "_________________________________________________________________\n",
      "conv2d_3 (Conv2D)            (None, 8, 8, 32)          9248      \n",
      "_________________________________________________________________\n",
      "re_lu_2 (ReLU)               (None, 8, 8, 32)          0         \n",
      "_________________________________________________________________\n",
      "max_pooling2d_2 (MaxPooling2 (None, 4, 4, 32)          0         \n",
      "_________________________________________________________________\n",
      "flatten (Flatten)            (None, 512)               0         \n",
      "_________________________________________________________________\n",
      "dense_5 (Dense)              (None, 1024)              525312    \n",
      "_________________________________________________________________\n",
      "re_lu_3 (ReLU)               (None, 1024)              0         \n",
      "_________________________________________________________________\n",
      "dense_6 (Dense)              (None, 10)                10250     \n",
      "_________________________________________________________________\n",
      "activation (Activation)      (None, 10)                0         \n",
      "=================================================================\n",
      "Total params: 559,146\n",
      "Trainable params: 559,146\n",
      "Non-trainable params: 0\n",
      "_________________________________________________________________\n"
     ]
    }
   ],
   "source": [
    "model.summary()"
   ]
  },
  {
   "cell_type": "code",
   "execution_count": 20,
   "id": "measured-mistake",
   "metadata": {},
   "outputs": [],
   "source": [
    "#compler\n",
    "from keras.optimizers import RMSprop\n",
    "model.compile(loss= \"categorical_crossentropy\",\n",
    "             optimizer =RMSprop(lr=0.001),\n",
    "             metrics=[\"accuracy\"])"
   ]
  },
  {
   "cell_type": "code",
   "execution_count": 21,
   "id": "blessed-brick",
   "metadata": {},
   "outputs": [],
   "source": [
    "from keras.preprocessing.image import ImageDataGenerator\n",
    "\n",
    "# augumenting\n",
    "datagen = ImageDataGenerator(\n",
    "    rotation_range = 40,\n",
    "    width_shift_range = 0.2,\n",
    "    height_shift_range = 0.2,\n",
    "    shear_range = 0.2,\n",
    "    zoom_range = 0.2,\n",
    "    horizontal_flip = True,\n",
    "    vertical_flip = True,\n",
    "    fill_mode = 'nearest')"
   ]
  },
  {
   "cell_type": "code",
   "execution_count": 22,
   "id": "documentary-lesson",
   "metadata": {},
   "outputs": [],
   "source": [
    "datagen.fit(X_train)"
   ]
  },
  {
   "cell_type": "code",
   "execution_count": 23,
   "id": "foster-fight",
   "metadata": {},
   "outputs": [],
   "source": [
    "BATCH_SIZE = 128\n",
    "NB_EPOCH = 50"
   ]
  },
  {
   "cell_type": "code",
   "execution_count": 24,
   "id": "extraordinary-ceremony",
   "metadata": {},
   "outputs": [
    {
     "name": "stdout",
     "output_type": "stream",
     "text": [
      "Epoch 1/50\n",
      "390/390 [==============================] - 38s 55ms/step - loss: 2.1162 - accuracy: 0.2168 - val_loss: 1.6131 - val_accuracy: 0.4150\n",
      "Epoch 2/50\n",
      "390/390 [==============================] - 22s 55ms/step - loss: 1.7533 - accuracy: 0.3606 - val_loss: 1.5762 - val_accuracy: 0.4407\n",
      "Epoch 3/50\n",
      "390/390 [==============================] - 23s 59ms/step - loss: 1.6223 - accuracy: 0.4165 - val_loss: 1.6034 - val_accuracy: 0.4348\n",
      "Epoch 4/50\n",
      "390/390 [==============================] - 24s 60ms/step - loss: 1.5455 - accuracy: 0.4453 - val_loss: 1.3294 - val_accuracy: 0.5211s - loss: 1.5621 - accuracy: 0 - ETA: 1 - ETA: 16s - loss: 1.5566 - accuracy: 0 - ETA: 15s - loss: 1.5563 - accuracy: 0.442 - ETA: 15s -  - ETA: 13s - loss: 1.5548 - accuracy: 0.4 - E - ETA: 11s - loss: 1.5526 - accuracy: 0.443 - ETA: 11s - los - ETA: 2s - loss:\n",
      "Epoch 5/50\n",
      "390/390 [==============================] - 24s 62ms/step - loss: 1.4778 - accuracy: 0.4690 - val_loss: 1.3505 - val_accuracy: 0.5199 loss: 1.48 - ETA: 14s - loss: 1.4809 - accur - ETA: 13s - - ETA: 11s - loss: 1.4798 - accu - ETA: 10s - loss: 1.4797 - accuracy: - ETA: 10s - loss: 1.4797 - accurac - ETA: 9s - loss: 1.4797 - accuracy: - ETA: 9s - loss: 1.479 - ETA: 9s - loss: 1.4797 - accuracy:  - ETA: 8s - loss: 1.4797 -  - ETA: 8s - loss: 1.4797 - accuracy:  - ETA: 8s - loss: 1.4797 - accu - ETA: 7s - loss: 1.4797 -  - ETA: 7s - loss: 1 - ETA - ETA: 1s - loss: 1.4 - ETA: 0s - loss: 1.4781 - accuracy: 0. - ETA: 0s - loss: 1.4781 - accuracy: 0. - ETA: 0s - loss:\n",
      "Epoch 6/50\n",
      "390/390 [==============================] - 25s 63ms/step - loss: 1.4264 - accuracy: 0.4916 - val_loss: 1.3447 - val_accuracy: 0.5191TA: 23s - loss: 1.4132 - accuracy: 0. - ETA: 22s - loss: 1.4188 - accuracy: 0 - ETA: 22s - loss: 1.4251 - accura - ETA: 22s - loss: 1.4312 - accuracy: 0. - ETA: 21s - loss: 1.4328 - accurac - ETA: 21s - loss: 1.4338 - accuracy: 0. - ETA: 21s - loss: 1.4341 - accuracy: 0.496 - ETA: 20s - loss: 1 - ETA: 19s - loss: 1.4363 - accurac - ETA: 18s - loss: 1.4358 - ETA: 17s - loss: 1.4341  - ETA: 16s - loss:  - ETA: 12s - loss: 1. - ETA: 10s - loss: 1.4302 - accuracy: 0 - ETA: 10s - loss: - ETA: 9s - loss: 1.4297 - accuracy: 0. - ETA: 9s - loss: 1.4296 - accuracy: 0. - ETA: 9s - loss: 1.4296 - accuracy:  - ETA: 7s - loss: 1.4289 - accuracy: 0. - ETA: 7s - loss: 1.4288 - accuracy:  - ETA: 7s - loss: 1.428 - ETA: 6s - loss: 1.4285 - accura - ETA: 6s - loss: 1.4284 - ac - ETA: 4s - loss: 1.4277 - ac - ETA: 4s - loss: 1.427 - - ETA: 2s - loss: 1.4272  - ETA: 1s - loss: 1.4270  - E\n",
      "Epoch 7/50\n",
      "390/390 [==============================] - 25s 65ms/step - loss: 1.3807 - accuracy: 0.5049 - val_loss: 1.6768 - val_accuracy: 0.45392s - loss: 1.3884 - accur - ETA: 22s - loss: 1.3854 - accuracy: 0.510 - ETA: 22s - loss: 1.3854 - accuracy: 0.50 - ETA: 22s - loss: 1.3858 - accuracy: 0 - ETA: 21s - loss: 1.3869 - accuracy: 0.5 - ETA: 21s - loss: 1.3877 - accuracy: 0.5 - ETA: 21s - loss: 1.3884 - accuracy - ETA: 21s - loss: 1.389 - ETA: 19s - loss: 1.3891 - accuracy - ETA: 19s - loss: 1.3889 - accuracy: 0.5 - ETA: 19s - loss: 1.3887 - accuracy - ETA: 18s - loss: 1.3882 - accuracy: 0.504 - ETA: 18s - loss: 1.3882 - accurac - ETA: 18s - loss: 1.3877 - accuracy: 0. - ETA: 17s - loss: 1.3872 - accuracy: 0. - ETA: 17s - loss: 1.3868 - accuracy:  - ETA: 17s - loss: 1.3864 - accuracy: 0.5 - ETA: 16s - loss: 1.3862 - accuracy:  - ETA: 16s - loss: 1.3856 - accuracy: 0 - ETA: 16s - loss: 1.3853 - accuracy:  - ETA: 15s - loss: 1.3849 - accu - ETA: 15s - loss: 1.3841 - accuracy: 0. - ETA: 14s - loss: 1.3840 - accuracy: 0.5 - ETA: 14s - loss: 1.3839 - ac - ETA: 13s - loss: 1.3834 - accuracy: 0.5 - ETA: 13s - loss: 1.3833 - accuracy: 0.50 - ETA: 13s - loss: 1.38 - ETA: 12s - loss: 1.3830 - accuracy: 0.505 - ETA: 12s - loss: 1.3830 - accuracy: 0.505 - ETA: 12s - loss: 1.3830 - a - ETA: 11s - loss: 1.3828 - ac - ETA:  - ETA: 8s - loss: 1.3824 - accuracy: 0.50 - ETA: 8s - loss: 1.3824 - accuracy - ETA: 8s - los - ETA: 7s - loss: 1 - ETA: 5s - loss: 1.3815 -  - ETA: 5s - loss: 1.3813 - accuracy - ETA: 4s - loss: 1.3813 - accuracy: 0. - ETA: 4s - loss: - ETA: 3s - loss: 1.3811 - accura - ETA: 3s - loss: 1.3810 - accuracy: 0.50 - ETA: 3s - loss: 1.3810 - accura - ETA: 3s - loss: 1.3810 - accuracy - ETA: 2s - loss: 1.3809 - accuracy:  - - ETA: 1s - - ETA: 0s - loss: 1.3807 - ac\n",
      "Epoch 8/50\n",
      "390/390 [==============================] - 26s 66ms/step - loss: 1.3486 - accuracy: 0.5154 - val_loss: 1.2587 - val_accuracy: 0.5486: 24s - loss: 1.4211 - a - ETA: 23s - loss: 1.3774 - accurac - ETA: 22s - loss: 1.3670 - accuracy: 0 - ETA: 22s - loss: 1.3627 - accuracy: 0.5 - ETA: 22s - loss: 1.3608 - accur - ETA: 21s - loss: 1.3578 - accuracy: 0.5 - ETA: 21s - loss: 1.3573 - accurac - ETA: 20s - loss: 1.3563 - a - ETA: 19s - loss: 1.3560 - accur - ETA: 19s - loss: 1.3559 - a - ETA: 18s - loss: 1.3559 - accuracy: - ETA: 12s - loss: 1.3521 - accuracy: 0. - ETA: 11s -  - ETA: 9s - l - ETA: 8s - - ETA: 7s - loss: 1.3512 - accu - ETA: 7s - - ETA: 6s - loss: 1.3508 - accuracy: 0.51 - ETA: 6s - loss: 1.3508 -  - ETA: 5s - loss: 1.3 - ETA: 2s - loss: 1.3 - ETA: 1s - los - ETA: 0s - loss: 1.3489 - accuracy - ETA: 0s - loss: 1.3488 - accuracy: 0. - ETA: 0s - loss: 1.3488 - accu\n",
      "Epoch 9/50\n",
      "390/390 [==============================] - 27s 68ms/step - loss: 1.3138 - accuracy: 0.5291 - val_loss: 1.2468 - val_accuracy: 0.5570s - - ETA: 22s - loss: 1.3369 - accuracy: 0.517 - ETA: 22s - loss: 1.3366 - accurac - ETA: 21s - loss: 1.3338 - accuracy: 0. - ETA: 21s - lo - ETA: 19s - loss: 1.3281 - accuracy: 0.521 - ETA: 1 - ETA: 17s - loss: 1.3237 - accur - ETA: 16s - loss: 1.3226 - accurac - ETA: 15s - loss: 1.3219 - accu - ETA: 15s - loss: 1.3210 - ac - ETA: 14s - loss: 1.3200 - accuracy: 0.525 - ETA: 14s - loss: 1.3199 -  - ETA: 13s - loss: 1.3189 - accuracy: 0.52 - ETA: 12s - loss: - ETA: 11s - loss: 1.3176 - accuracy - ETA: 10s - loss:  - ETA: 9s - l - ETA: 7s - loss: - ETA: 0s - loss: 1.3138 - accura\n",
      "Epoch 10/50\n",
      "390/390 [==============================] - 29s 74ms/step - loss: 1.2854 - accuracy: 0.5459 - val_loss: 1.1738 - val_accuracy: 0.5920\n",
      "Epoch 11/50\n",
      "390/390 [==============================] - 28s 72ms/step - loss: 1.2669 - accuracy: 0.5460 - val_loss: 1.1061 - val_accuracy: 0.6037.2676 - accuracy:  - ETA: 4s - loss: 1.2676 - ac - ETA\n",
      "Epoch 12/50\n",
      "390/390 [==============================] - 30s 78ms/step - loss: 1.2400 - accuracy: 0.5616 - val_loss: 1.1257 - val_accuracy: 0.6020\n",
      "Epoch 13/50\n",
      "390/390 [==============================] - 28s 72ms/step - loss: 1.2172 - accuracy: 0.5649 - val_loss: 1.1629 - val_accuracy: 0.5897\n",
      "Epoch 14/50\n",
      "390/390 [==============================] - 29s 73ms/step - loss: 1.1974 - accuracy: 0.5752 - val_loss: 1.1225 - val_accuracy: 0.6081\n",
      "Epoch 15/50\n",
      "390/390 [==============================] - 29s 75ms/step - loss: 1.1796 - accuracy: 0.5773 - val_loss: 1.1891 - val_accuracy: 0.5929\n",
      "Epoch 16/50\n",
      "390/390 [==============================] - 29s 73ms/step - loss: 1.1833 - accuracy: 0.5786 - val_loss: 1.1948 - val_accuracy: 0.5893\n",
      "Epoch 17/50\n",
      "390/390 [==============================] - 28s 73ms/step - loss: 1.1572 - accuracy: 0.5903 - val_loss: 1.1538 - val_accuracy: 0.6087\n",
      "Epoch 18/50\n",
      "390/390 [==============================] - 29s 74ms/step - loss: 1.1361 - accuracy: 0.5962 - val_loss: 1.0491 - val_accuracy: 0.6310\n",
      "Epoch 19/50\n",
      "390/390 [==============================] - 29s 74ms/step - loss: 1.1298 - accuracy: 0.6019 - val_loss: 1.1597 - val_accuracy: 0.6149\n",
      "Epoch 20/50\n",
      "390/390 [==============================] - 29s 74ms/step - loss: 1.1275 - accuracy: 0.6004 - val_loss: 1.0537 - val_accuracy: 0.6322\n",
      "Epoch 21/50\n",
      "390/390 [==============================] - 30s 77ms/step - loss: 1.1121 - accuracy: 0.6048 - val_loss: 1.0400 - val_accuracy: 0.6474\n",
      "Epoch 22/50\n",
      "390/390 [==============================] - 30s 76ms/step - loss: 1.1091 - accuracy: 0.6081 - val_loss: 1.2716 - val_accuracy: 0.5917\n",
      "Epoch 23/50\n",
      "390/390 [==============================] - 30s 77ms/step - loss: 1.1093 - accuracy: 0.6098 - val_loss: 1.2260 - val_accuracy: 0.5937\n",
      "Epoch 24/50\n",
      "390/390 [==============================] - 31s 78ms/step - loss: 1.0946 - accuracy: 0.6173 - val_loss: 1.0359 - val_accuracy: 0.6417\n",
      "Epoch 25/50\n"
     ]
    },
    {
     "name": "stdout",
     "output_type": "stream",
     "text": [
      "390/390 [==============================] - 30s 77ms/step - loss: 1.0963 - accuracy: 0.6138 - val_loss: 1.0815 - val_accuracy: 0.6377\n",
      "Epoch 26/50\n",
      "390/390 [==============================] - 32s 82ms/step - loss: 1.0800 - accuracy: 0.6181 - val_loss: 1.0923 - val_accuracy: 0.6383\n",
      "Epoch 27/50\n",
      "390/390 [==============================] - 36s 92ms/step - loss: 1.0765 - accuracy: 0.6219 - val_loss: 1.1264 - val_accuracy: 0.6237\n",
      "Epoch 28/50\n",
      "390/390 [==============================] - 34s 88ms/step - loss: 1.0657 - accuracy: 0.6251 - val_loss: 1.0511 - val_accuracy: 0.6412\n",
      "Epoch 29/50\n",
      "390/390 [==============================] - 33s 84ms/step - loss: 1.0667 - accuracy: 0.6212 - val_loss: 0.9758 - val_accuracy: 0.6631\n",
      "Epoch 30/50\n",
      "390/390 [==============================] - 32s 82ms/step - loss: 1.0638 - accuracy: 0.6228 - val_loss: 1.0953 - val_accuracy: 0.6235\n",
      "Epoch 31/50\n",
      "390/390 [==============================] - 33s 84ms/step - loss: 1.0614 - accuracy: 0.6269 - val_loss: 1.1006 - val_accuracy: 0.6319\n",
      "Epoch 32/50\n",
      "390/390 [==============================] - 33s 86ms/step - loss: 1.0578 - accuracy: 0.6269 - val_loss: 1.0810 - val_accuracy: 0.6337\n",
      "Epoch 33/50\n",
      "390/390 [==============================] - 33s 83ms/step - loss: 1.0503 - accuracy: 0.6291 - val_loss: 1.0616 - val_accuracy: 0.6347\n",
      "Epoch 34/50\n",
      "390/390 [==============================] - 36s 93ms/step - loss: 1.0525 - accuracy: 0.6325 - val_loss: 1.0895 - val_accuracy: 0.6309\n",
      "Epoch 35/50\n",
      "390/390 [==============================] - 34s 87ms/step - loss: 1.0520 - accuracy: 0.6291 - val_loss: 1.0604 - val_accuracy: 0.6521\n",
      "Epoch 36/50\n",
      "390/390 [==============================] - 35s 89ms/step - loss: 1.0510 - accuracy: 0.6315 - val_loss: 0.9383 - val_accuracy: 0.6792\n",
      "Epoch 37/50\n",
      "390/390 [==============================] - 32s 82ms/step - loss: 1.0417 - accuracy: 0.6324 - val_loss: 0.9991 - val_accuracy: 0.6540\n",
      "Epoch 38/50\n",
      "390/390 [==============================] - 33s 86ms/step - loss: 1.0372 - accuracy: 0.6348 - val_loss: 1.0096 - val_accuracy: 0.6552\n",
      "Epoch 39/50\n",
      "390/390 [==============================] - 32s 82ms/step - loss: 1.0400 - accuracy: 0.6348 - val_loss: 1.0359 - val_accuracy: 0.6528\n",
      "Epoch 40/50\n",
      "390/390 [==============================] - 32s 82ms/step - loss: 1.0442 - accuracy: 0.6355 - val_loss: 1.0329 - val_accuracy: 0.6579\n",
      "Epoch 41/50\n",
      "390/390 [==============================] - 33s 84ms/step - loss: 1.0321 - accuracy: 0.6368 - val_loss: 1.1719 - val_accuracy: 0.6285\n",
      "Epoch 42/50\n",
      "390/390 [==============================] - 34s 87ms/step - loss: 1.0332 - accuracy: 0.6372 - val_loss: 1.0433 - val_accuracy: 0.6561\n",
      "Epoch 43/50\n",
      "390/390 [==============================] - 34s 86ms/step - loss: 1.0355 - accuracy: 0.6346 - val_loss: 1.0341 - val_accuracy: 0.6504\n",
      "Epoch 44/50\n",
      "390/390 [==============================] - 32s 82ms/step - loss: 1.0322 - accuracy: 0.6355 - val_loss: 1.0023 - val_accuracy: 0.6609\n",
      "Epoch 45/50\n",
      "390/390 [==============================] - 34s 88ms/step - loss: 1.0366 - accuracy: 0.6355 - val_loss: 0.9571 - val_accuracy: 0.6737\n",
      "Epoch 46/50\n",
      "390/390 [==============================] - 37s 94ms/step - loss: 1.0338 - accuracy: 0.6380 - val_loss: 1.1357 - val_accuracy: 0.6435\n",
      "Epoch 47/50\n",
      "390/390 [==============================] - 32s 82ms/step - loss: 1.0422 - accuracy: 0.6364 - val_loss: 0.9619 - val_accuracy: 0.6722\n",
      "Epoch 48/50\n",
      "390/390 [==============================] - 32s 82ms/step - loss: 1.0392 - accuracy: 0.6326 - val_loss: 1.2891 - val_accuracy: 0.6133\n",
      "Epoch 49/50\n",
      "390/390 [==============================] - 32s 83ms/step - loss: 1.0351 - accuracy: 0.6376 - val_loss: 1.0075 - val_accuracy: 0.6603\n",
      "Epoch 50/50\n",
      "390/390 [==============================] - 33s 84ms/step - loss: 1.0310 - accuracy: 0.6423 - val_loss: 1.0791 - val_accuracy: 0.6378\n"
     ]
    }
   ],
   "source": [
    "# train\n",
    "history = model.fit_generator(datagen.flow(X_train, y_train,\n",
    "                                           batch_size=BATCH_SIZE),\n",
    "                              steps_per_epoch=50000//128,\n",
    "                              epochs=NB_EPOCH,\n",
    "                              validation_data = (X_test,y_test),\n",
    "                             validation_steps=10000//128)"
   ]
  },
  {
   "cell_type": "code",
   "execution_count": 25,
   "id": "industrial-french",
   "metadata": {},
   "outputs": [
    {
     "data": {
      "image/png": "[encoded data removed]",
      "text/plain": [
       "<Figure size 432x288 with 1 Axes>"
      ]
     },
     "metadata": {
      "needs_background": "light"
     },
     "output_type": "display_data"
    },
    {
     "data": {
      "image/png": "[encoded data removed]",
      "text/plain": [
       "<Figure size 432x288 with 1 Axes>"
      ]
     },
     "metadata": {
      "needs_background": "light"
     },
     "output_type": "display_data"
    }
   ],
   "source": [
    "#visualize model performance\n",
    "acc = history.history['accuracy']\n",
    "val_acc = history.history['val_accuracy']\n",
    "loss = history.history['loss']\n",
    "val_loss = history.history['val_loss']\n",
    "\n",
    "epochs = range(len(acc))\n",
    "\n",
    "plt.plot(epochs, acc, 'bo', label='Training accuracy')\n",
    "plt.plot(epochs, val_acc, 'b', label='Validation accuracy')\n",
    "plt.title('Training and validation accuracy')\n",
    "\n",
    "plt.figure()\n",
    "\n",
    "plt.plot(epochs, loss, 'bo', label='Training Loss')\n",
    "plt.plot(epochs, val_loss, 'b', label='Validation Loss')\n",
    "plt.title('Training and validation loss')\n",
    "plt.legend()\n",
    "\n",
    "plt.show()"
   ]
  },
  {
   "cell_type": "code",
   "execution_count": null,
   "id": "violent-killing",
   "metadata": {},
   "outputs": [],
   "source": []
  },
  {
   "cell_type": "markdown",
   "id": "egyptian-usage",
   "metadata": {},
   "source": [
    "Now we use pretrained model."
   ]
  },
  {
   "cell_type": "markdown",
   "id": "scenic-montreal",
   "metadata": {},
   "source": [
    "There are two ways to use  a pretrained model:-<br>\n",
    "Feature extraction<br>Fine-tuning."
   ]
  },
  {
   "cell_type": "markdown",
   "id": "important-height",
   "metadata": {},
   "source": [
    "We try both of them"
   ]
  },
  {
   "cell_type": "markdown",
   "id": "unauthorized-bridges",
   "metadata": {},
   "source": [
    "### transfer learning\n"
   ]
  },
  {
   "cell_type": "code",
   "execution_count": 4,
   "id": "major-fleet",
   "metadata": {},
   "outputs": [
    {
     "name": "stdout",
     "output_type": "stream",
     "text": [
      "A local file was found, but it seems to be incomplete or outdated because the auto file hash does not match the original value of 253f8cb515780f3b799900260a226db6 so we will re-download the data.\n",
      "Downloading data from https://storage.googleapis.com/tensorflow/keras-applications/vgg19/vgg19_weights_tf_dim_ordering_tf_kernels_notop.h5\n",
      "80142336/80134624 [==============================] - 54s 1us/step\n"
     ]
    }
   ],
   "source": [
    "#Instantiating the VGG16 convolutional base\n",
    "from keras.applications import VGG19\n",
    "vgg = VGG19(weights= \"imagenet\",include_top=False, input_shape = (X_train.shape[1:]))"
   ]
  },
  {
   "cell_type": "code",
   "execution_count": 5,
   "id": "differential-least",
   "metadata": {},
   "outputs": [],
   "source": [
    "for layer in vgg.layers:\n",
    "    layer.trainable = False"
   ]
  },
  {
   "cell_type": "code",
   "execution_count": 23,
   "id": "latter-treasure",
   "metadata": {},
   "outputs": [],
   "source": [
    "from keras.models import Model\n",
    "x = Flatten()(vgg.output)\n",
    "x = Dense(1024, activation=('relu'))(x)\n",
    "x = Dense(512, activation=('relu'))(x)\n",
    "x = Dense(256, activation=('relu'))(x)\n",
    "x = Dense(128, activation = ('relu'))(x)\n",
    "prediction = Dense(10, activation='softmax')(x)"
   ]
  },
  {
   "cell_type": "code",
   "execution_count": 24,
   "id": "polished-donna",
   "metadata": {},
   "outputs": [],
   "source": [
    "# create a model object\n",
    "model = Model(inputs=vgg.input, outputs=prediction)"
   ]
  },
  {
   "cell_type": "code",
   "execution_count": 25,
   "id": "fixed-flood",
   "metadata": {},
   "outputs": [
    {
     "name": "stdout",
     "output_type": "stream",
     "text": [
      "Model: \"model\"\n",
      "_________________________________________________________________\n",
      "Layer (type)                 Output Shape              Param #   \n",
      "=================================================================\n",
      "input_1 (InputLayer)         [(None, 32, 32, 3)]       0         \n",
      "_________________________________________________________________\n",
      "block1_conv1 (Conv2D)        (None, 32, 32, 64)        1792      \n",
      "_________________________________________________________________\n",
      "block1_conv2 (Conv2D)        (None, 32, 32, 64)        36928     \n",
      "_________________________________________________________________\n",
      "block1_pool (MaxPooling2D)   (None, 16, 16, 64)        0         \n",
      "_________________________________________________________________\n",
      "block2_conv1 (Conv2D)        (None, 16, 16, 128)       73856     \n",
      "_________________________________________________________________\n",
      "block2_conv2 (Conv2D)        (None, 16, 16, 128)       147584    \n",
      "_________________________________________________________________\n",
      "block2_pool (MaxPooling2D)   (None, 8, 8, 128)         0         \n",
      "_________________________________________________________________\n",
      "block3_conv1 (Conv2D)        (None, 8, 8, 256)         295168    \n",
      "_________________________________________________________________\n",
      "block3_conv2 (Conv2D)        (None, 8, 8, 256)         590080    \n",
      "_________________________________________________________________\n",
      "block3_conv3 (Conv2D)        (None, 8, 8, 256)         590080    \n",
      "_________________________________________________________________\n",
      "block3_conv4 (Conv2D)        (None, 8, 8, 256)         590080    \n",
      "_________________________________________________________________\n",
      "block3_pool (MaxPooling2D)   (None, 4, 4, 256)         0         \n",
      "_________________________________________________________________\n",
      "block4_conv1 (Conv2D)        (None, 4, 4, 512)         1180160   \n",
      "_________________________________________________________________\n",
      "block4_conv2 (Conv2D)        (None, 4, 4, 512)         2359808   \n",
      "_________________________________________________________________\n",
      "block4_conv3 (Conv2D)        (None, 4, 4, 512)         2359808   \n",
      "_________________________________________________________________\n",
      "block4_conv4 (Conv2D)        (None, 4, 4, 512)         2359808   \n",
      "_________________________________________________________________\n",
      "block4_pool (MaxPooling2D)   (None, 2, 2, 512)         0         \n",
      "_________________________________________________________________\n",
      "block5_conv1 (Conv2D)        (None, 2, 2, 512)         2359808   \n",
      "_________________________________________________________________\n",
      "block5_conv2 (Conv2D)        (None, 2, 2, 512)         2359808   \n",
      "_________________________________________________________________\n",
      "block5_conv3 (Conv2D)        (None, 2, 2, 512)         2359808   \n",
      "_________________________________________________________________\n",
      "block5_conv4 (Conv2D)        (None, 2, 2, 512)         2359808   \n",
      "_________________________________________________________________\n",
      "block5_pool (MaxPooling2D)   (None, 1, 1, 512)         0         \n",
      "_________________________________________________________________\n",
      "flatten_2 (Flatten)          (None, 512)               0         \n",
      "_________________________________________________________________\n",
      "dense_17 (Dense)             (None, 1024)              525312    \n",
      "_________________________________________________________________\n",
      "dense_18 (Dense)             (None, 512)               524800    \n",
      "_________________________________________________________________\n",
      "dense_19 (Dense)             (None, 256)               131328    \n",
      "_________________________________________________________________\n",
      "dense_20 (Dense)             (None, 128)               32896     \n",
      "_________________________________________________________________\n",
      "dense_21 (Dense)             (None, 10)                1290      \n",
      "=================================================================\n",
      "Total params: 21,240,010\n",
      "Trainable params: 1,215,626\n",
      "Non-trainable params: 20,024,384\n",
      "_________________________________________________________________\n"
     ]
    }
   ],
   "source": [
    "model.summary()"
   ]
  },
  {
   "cell_type": "code",
   "execution_count": 26,
   "id": "large-conclusion",
   "metadata": {},
   "outputs": [],
   "source": [
    "from keras.optimizers import RMSprop\n",
    "model.compile(loss= \"categorical_crossentropy\",\n",
    "             optimizer =RMSprop(lr=0.001),\n",
    "             metrics=[\"accuracy\"])"
   ]
  },
  {
   "cell_type": "code",
   "execution_count": 27,
   "id": "alternative-shore",
   "metadata": {},
   "outputs": [],
   "source": [
    "from keras.preprocessing.image import ImageDataGenerator\n",
    "\n",
    "# augumenting\n",
    "datagen = ImageDataGenerator(\n",
    "    rotation_range = 40,\n",
    "    width_shift_range = 0.2,\n",
    "    height_shift_range = 0.2,\n",
    "    shear_range = 0.2,\n",
    "    zoom_range = 0.2,\n",
    "    horizontal_flip = True,\n",
    "    vertical_flip = True,\n",
    "    fill_mode = 'nearest')"
   ]
  },
  {
   "cell_type": "code",
   "execution_count": 28,
   "id": "running-danger",
   "metadata": {},
   "outputs": [],
   "source": [
    "datagen.fit(X_train)"
   ]
  },
  {
   "cell_type": "code",
   "execution_count": 29,
   "id": "undefined-enterprise",
   "metadata": {},
   "outputs": [],
   "source": [
    "BATCH_SIZE = 234\n",
    "NB_EPOCH = 50"
   ]
  },
  {
   "cell_type": "code",
   "execution_count": 30,
   "id": "ordinary-america",
   "metadata": {},
   "outputs": [
    {
     "data": {
      "text/plain": [
       "(50000, 10)"
      ]
     },
     "execution_count": 30,
     "metadata": {},
     "output_type": "execute_result"
    }
   ],
   "source": [
    "y_train.shape"
   ]
  },
  {
   "cell_type": "code",
   "execution_count": 31,
   "id": "based-friend",
   "metadata": {},
   "outputs": [
    {
     "data": {
      "text/plain": [
       "(10000, 10)"
      ]
     },
     "execution_count": 31,
     "metadata": {},
     "output_type": "execute_result"
    }
   ],
   "source": [
    "y_test.shape"
   ]
  },
  {
   "cell_type": "code",
   "execution_count": 32,
   "id": "modular-adelaide",
   "metadata": {},
   "outputs": [
    {
     "name": "stdout",
     "output_type": "stream",
     "text": [
      "Epoch 1/50\n",
      "213/213 [==============================] - 50s 140ms/step - loss: 1.9854 - accuracy: 0.2784 - val_loss: 1.5420 - val_accuracy: 0.4530\n",
      "Epoch 2/50\n",
      "213/213 [==============================] - 25s 119ms/step - loss: 1.6863 - accuracy: 0.3906 - val_loss: 1.5394 - val_accuracy: 0.4543\n",
      "Epoch 3/50\n",
      "213/213 [==============================] - 28s 130ms/step - loss: 1.6379 - accuracy: 0.4147 - val_loss: 1.4525 - val_accuracy: 0.4790\n",
      "Epoch 4/50\n",
      "213/213 [==============================] - 30s 139ms/step - loss: 1.6053 - accuracy: 0.4253 - val_loss: 1.4757 - val_accuracy: 0.4668\n",
      "Epoch 5/50\n",
      "213/213 [==============================] - 32s 148ms/step - loss: 1.5748 - accuracy: 0.4387 - val_loss: 1.4550 - val_accuracy: 0.4818\n",
      "Epoch 6/50\n",
      "213/213 [==============================] - 33s 154ms/step - loss: 1.5483 - accuracy: 0.4485 - val_loss: 1.4265 - val_accuracy: 0.4894\n",
      "Epoch 7/50\n",
      "213/213 [==============================] - 32s 151ms/step - loss: 1.5353 - accuracy: 0.4540 - val_loss: 1.4455 - val_accuracy: 0.4850\n",
      "Epoch 8/50\n",
      "213/213 [==============================] - 33s 154ms/step - loss: 1.5277 - accuracy: 0.4543 - val_loss: 1.4160 - val_accuracy: 0.4967\n",
      "Epoch 9/50\n",
      "213/213 [==============================] - 35s 166ms/step - loss: 1.5088 - accuracy: 0.4593 - val_loss: 1.4122 - val_accuracy: 0.4978\n",
      "Epoch 10/50\n",
      "213/213 [==============================] - 34s 161ms/step - loss: 1.5048 - accuracy: 0.4644 - val_loss: 1.3973 - val_accuracy: 0.5074\n",
      "Epoch 11/50\n",
      "213/213 [==============================] - 34s 159ms/step - loss: 1.4899 - accuracy: 0.4684 - val_loss: 1.3962 - val_accuracy: 0.5013\n",
      "Epoch 12/50\n",
      "213/213 [==============================] - 36s 168ms/step - loss: 1.4884 - accuracy: 0.4730 - val_loss: 1.3849 - val_accuracy: 0.5101\n",
      "Epoch 13/50\n",
      "213/213 [==============================] - 35s 165ms/step - loss: 1.4731 - accuracy: 0.4729 - val_loss: 1.4033 - val_accuracy: 0.5053\n",
      "Epoch 14/50\n",
      "213/213 [==============================] - 36s 168ms/step - loss: 1.4736 - accuracy: 0.4786 - val_loss: 1.3994 - val_accuracy: 0.5063\n",
      "Epoch 15/50\n",
      "213/213 [==============================] - 36s 171ms/step - loss: 1.4673 - accuracy: 0.4763 - val_loss: 1.4977 - val_accuracy: 0.4813\n",
      "Epoch 16/50\n",
      "213/213 [==============================] - 36s 171ms/step - loss: 1.4594 - accuracy: 0.4758 - val_loss: 1.3758 - val_accuracy: 0.5163\n",
      "Epoch 17/50\n",
      "213/213 [==============================] - 38s 177ms/step - loss: 1.4498 - accuracy: 0.4837 - val_loss: 1.3934 - val_accuracy: 0.5038\n",
      "Epoch 18/50\n",
      "213/213 [==============================] - 38s 181ms/step - loss: 1.4511 - accuracy: 0.4820 - val_loss: 1.3693 - val_accuracy: 0.5205\n",
      "Epoch 19/50\n",
      "213/213 [==============================] - 39s 183ms/step - loss: 1.4520 - accuracy: 0.4823 - val_loss: 1.3628 - val_accuracy: 0.5093\n",
      "Epoch 20/50\n",
      "213/213 [==============================] - 41s 192ms/step - loss: 1.4381 - accuracy: 0.4859 - val_loss: 1.3873 - val_accuracy: 0.5080\n",
      "Epoch 21/50\n",
      "213/213 [==============================] - 38s 177ms/step - loss: 1.4457 - accuracy: 0.4852 - val_loss: 1.3614 - val_accuracy: 0.5136\n",
      "Epoch 22/50\n",
      "213/213 [==============================] - 39s 182ms/step - loss: 1.4319 - accuracy: 0.4909 - val_loss: 1.4225 - val_accuracy: 0.4881\n",
      "Epoch 23/50\n",
      "213/213 [==============================] - 40s 187ms/step - loss: 1.4337 - accuracy: 0.4897 - val_loss: 1.3654 - val_accuracy: 0.5200\n",
      "Epoch 24/50\n",
      "213/213 [==============================] - 37s 175ms/step - loss: 1.4236 - accuracy: 0.4915 - val_loss: 1.3859 - val_accuracy: 0.5109\n",
      "Epoch 25/50\n",
      "213/213 [==============================] - 39s 182ms/step - loss: 1.4315 - accuracy: 0.4895 - val_loss: 1.3931 - val_accuracy: 0.5135\n",
      "Epoch 26/50\n",
      "213/213 [==============================] - 38s 178ms/step - loss: 1.4302 - accuracy: 0.4896 - val_loss: 1.4138 - val_accuracy: 0.5064\n",
      "Epoch 27/50\n",
      "213/213 [==============================] - 37s 176ms/step - loss: 1.4202 - accuracy: 0.4937 - val_loss: 1.3231 - val_accuracy: 0.5349\n",
      "Epoch 28/50\n",
      "213/213 [==============================] - 39s 185ms/step - loss: 1.4318 - accuracy: 0.4909 - val_loss: 1.3539 - val_accuracy: 0.5206\n",
      "Epoch 29/50\n",
      "213/213 [==============================] - 44s 207ms/step - loss: 1.4260 - accuracy: 0.4936 - val_loss: 1.3658 - val_accuracy: 0.5151\n",
      "Epoch 30/50\n",
      "213/213 [==============================] - 41s 194ms/step - loss: 1.4246 - accuracy: 0.4926 - val_loss: 1.3671 - val_accuracy: 0.5157\n",
      "Epoch 31/50\n",
      "213/213 [==============================] - 41s 193ms/step - loss: 1.4180 - accuracy: 0.4951 - val_loss: 1.4314 - val_accuracy: 0.4933\n",
      "Epoch 32/50\n",
      "213/213 [==============================] - 42s 196ms/step - loss: 1.4158 - accuracy: 0.4969 - val_loss: 1.3295 - val_accuracy: 0.5308\n",
      "Epoch 33/50\n",
      "213/213 [==============================] - 42s 197ms/step - loss: 1.4043 - accuracy: 0.5007 - val_loss: 1.3081 - val_accuracy: 0.5349\n",
      "Epoch 34/50\n",
      "213/213 [==============================] - 42s 195ms/step - loss: 1.4053 - accuracy: 0.4994 - val_loss: 1.3317 - val_accuracy: 0.5270\n",
      "Epoch 35/50\n",
      "213/213 [==============================] - 42s 195ms/step - loss: 1.4107 - accuracy: 0.4992 - val_loss: 1.3178 - val_accuracy: 0.5348\n",
      "Epoch 36/50\n",
      "213/213 [==============================] - 42s 195ms/step - loss: 1.4176 - accuracy: 0.4980 - val_loss: 1.3493 - val_accuracy: 0.5265\n",
      "Epoch 37/50\n",
      "213/213 [==============================] - 44s 204ms/step - loss: 1.4127 - accuracy: 0.5015 - val_loss: 1.3558 - val_accuracy: 0.5153\n",
      "Epoch 38/50\n",
      "213/213 [==============================] - 43s 199ms/step - loss: 1.4219 - accuracy: 0.5025 - val_loss: 1.3431 - val_accuracy: 0.5284\n",
      "Epoch 39/50\n",
      "213/213 [==============================] - 51s 240ms/step - loss: 1.3970 - accuracy: 0.5053 - val_loss: 1.4322 - val_accuracy: 0.5145\n",
      "Epoch 40/50\n",
      "213/213 [==============================] - 48s 226ms/step - loss: 1.4051 - accuracy: 0.5002 - val_loss: 1.3294 - val_accuracy: 0.5344\n",
      "Epoch 41/50\n",
      "213/213 [==============================] - 47s 222ms/step - loss: 1.4043 - accuracy: 0.4990 - val_loss: 1.3706 - val_accuracy: 0.5164\n",
      "Epoch 42/50\n",
      "213/213 [==============================] - 47s 221ms/step - loss: 1.3897 - accuracy: 0.5051 - val_loss: 1.3244 - val_accuracy: 0.5323\n",
      "Epoch 43/50\n",
      "213/213 [==============================] - 46s 218ms/step - loss: 1.4062 - accuracy: 0.5017 - val_loss: 1.3544 - val_accuracy: 0.5269\n",
      "Epoch 44/50\n",
      "213/213 [==============================] - 50s 236ms/step - loss: 1.4019 - accuracy: 0.5067 - val_loss: 1.3335 - val_accuracy: 0.5262\n",
      "Epoch 45/50\n",
      "213/213 [==============================] - 49s 228ms/step - loss: 1.4015 - accuracy: 0.5039 - val_loss: 1.3763 - val_accuracy: 0.5266\n",
      "Epoch 46/50\n",
      "213/213 [==============================] - 43s 204ms/step - loss: 1.3978 - accuracy: 0.5046 - val_loss: 1.4064 - val_accuracy: 0.5136\n",
      "Epoch 47/50\n",
      "213/213 [==============================] - 42s 198ms/step - loss: 1.3920 - accuracy: 0.5077 - val_loss: 1.3104 - val_accuracy: 0.5380\n",
      "Epoch 48/50\n",
      "213/213 [==============================] - 43s 201ms/step - loss: 1.3994 - accuracy: 0.5030 - val_loss: 1.3926 - val_accuracy: 0.5158\n",
      "Epoch 49/50\n",
      "213/213 [==============================] - 48s 227ms/step - loss: 1.3959 - accuracy: 0.5018 - val_loss: 1.3172 - val_accuracy: 0.5416\n",
      "Epoch 50/50\n",
      "213/213 [==============================] - 48s 224ms/step - loss: 1.3810 - accuracy: 0.5099 - val_loss: 1.2908 - val_accuracy: 0.5469\n"
     ]
    }
   ],
   "source": [
    "# train\n",
    "history = model.fit_generator(datagen.flow(X_train, y_train,\n",
    "                                           batch_size=BATCH_SIZE),\n",
    "                              steps_per_epoch=50000//234,\n",
    "                              epochs=NB_EPOCH,\n",
    "                              validation_data = (X_test,y_test),\n",
    "                             validation_steps=10000//234)"
   ]
  },
  {
   "cell_type": "code",
   "execution_count": 34,
   "id": "determined-current",
   "metadata": {},
   "outputs": [
    {
     "data": {
      "image/png": "[encoded data removed]",
      "text/plain": [
       "<Figure size 432x288 with 1 Axes>"
      ]
     },
     "metadata": {
      "needs_background": "light"
     },
     "output_type": "display_data"
    },
    {
     "data": {
      "image/png": "[encoded data removed]",
      "text/plain": [
       "<Figure size 432x288 with 1 Axes>"
      ]
     },
     "metadata": {
      "needs_background": "light"
     },
     "output_type": "display_data"
    }
   ],
   "source": [
    "#visualize model performance\n",
    "acc = history.history['accuracy']\n",
    "val_acc = history.history['val_accuracy']\n",
    "loss = history.history['loss']\n",
    "val_loss = history.history['val_loss']\n",
    "\n",
    "epochs = range(len(acc))\n",
    "\n",
    "plt.plot(epochs, acc, 'bo', label='Training accuracy')\n",
    "plt.plot(epochs, val_acc, 'b', label='Validation accuracy')\n",
    "plt.title('Training and validation accuracy')\n",
    "\n",
    "plt.figure()\n",
    "\n",
    "plt.plot(epochs, loss, 'bo', label='Training Loss')\n",
    "plt.plot(epochs, val_loss, 'b', label='Validation Loss')\n",
    "plt.title('Training and validation loss')\n",
    "plt.legend()\n",
    "\n",
    "plt.show()"
   ]
  },
  {
   "cell_type": "code",
   "execution_count": null,
   "id": "settled-arrival",
   "metadata": {},
   "outputs": [],
   "source": []
  }
 ],
 "metadata": {
  "kernelspec": {
   "display_name": "Python 3",
   "language": "python",
   "name": "python3"
  },
  "language_info": {
   "codemirror_mode": {
    "name": "ipython",
    "version": 3
   },
   "file_extension": ".py",
   "mimetype": "text/x-python",
   "name": "python",
   "nbconvert_exporter": "python",
   "pygments_lexer": "ipython3",
   "version": "3.7.9"
  }
 },
 "nbformat": 4,
 "nbformat_minor": 5
}
